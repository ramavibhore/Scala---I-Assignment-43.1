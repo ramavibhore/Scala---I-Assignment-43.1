{
 "cells": [
  {
   "cell_type": "code",
   "execution_count": 11,
   "metadata": {},
   "outputs": [],
   "source": [
    "'''\n",
    "Assignment scala 1:-\n",
    "Given a list of strings - List[String] (“alpha”, “gamma”, “omega”, “zeta”, “beta”)\n",
    "- find count of all strings with length 4\n",
    "- convert the list of string to a list of integers, where each string is mapped to its\n",
    "corresponding length\n",
    "- find count of all strings which contain alphabet ‘m’\n",
    "- find the count of all strings which start with the alphabet ‘a’\n",
    "'''"
   ]
  },
  {
   "cell_type": "code",
   "execution_count": 2,
   "metadata": {},
   "outputs": [
    {
     "name": "stdout",
     "output_type": "stream",
     "text": [
      "['alpha', 'gamma', 'omega', 'zeta', 'beta']\n"
     ]
    }
   ],
   "source": [
    "a=['alpha','gamma', 'omega', 'zeta', 'beta']\n",
    "print(a)"
   ]
  },
  {
   "cell_type": "code",
   "execution_count": 3,
   "metadata": {},
   "outputs": [
    {
     "name": "stdout",
     "output_type": "stream",
     "text": [
      "string with length 4 is 2\n"
     ]
    }
   ],
   "source": [
    "# count of all strings with length 4\n",
    "count=0\n",
    "for item in a:\n",
    "    if(len(item)==4):\n",
    "        count=count+1\n",
    "        \n",
    "print(\"string with length 4 is {}\".format(count))        "
   ]
  },
  {
   "cell_type": "code",
   "execution_count": 4,
   "metadata": {},
   "outputs": [
    {
     "name": "stdout",
     "output_type": "stream",
     "text": [
      "List corresponding to a is : [5, 5, 5, 4, 4]\n"
     ]
    }
   ],
   "source": [
    "# convert the list of string to a list of integers, where each string is mapped to its corresponding length\n",
    "a_len=[]\n",
    "for item in a:\n",
    "    a_len.append(len(item))\n",
    "        \n",
    "print(\"List corresponding to a is : {}\".format(a_len))    "
   ]
  },
  {
   "cell_type": "code",
   "execution_count": 5,
   "metadata": {},
   "outputs": [
    {
     "name": "stdout",
     "output_type": "stream",
     "text": [
      "count of strings having alphabet 'm' is : 2\n"
     ]
    }
   ],
   "source": [
    "# find count of all strings which contain alphabet ‘m’\n",
    "count=0\n",
    "for item in a:\n",
    "    for index in range(0,len(item)):\n",
    "        if(item[index]=='m'):\n",
    "            count=count+1\n",
    "            break\n",
    "            \n",
    "            \n",
    "print(\"count of strings having alphabet 'm' is : {}\".format(count))         \n",
    "        "
   ]
  },
  {
   "cell_type": "code",
   "execution_count": 6,
   "metadata": {},
   "outputs": [
    {
     "name": "stdout",
     "output_type": "stream",
     "text": [
      "count of strings which starts with alphabet 'a' is : 1\n"
     ]
    }
   ],
   "source": [
    "# find count of all strings which starts with alphabet 'a'\n",
    "count=0\n",
    "for item in a:\n",
    "    if(item[0]=='a'):\n",
    "        count=count+1\n",
    "        break\n",
    "            \n",
    "            \n",
    "print(\"count of strings which starts with alphabet 'a' is : {}\".format(count))         \n",
    "        "
   ]
  },
  {
   "cell_type": "code",
   "execution_count": 10,
   "metadata": {},
   "outputs": [
    {
     "name": "stdout",
     "output_type": "stream",
     "text": [
      " Enter the first number 10\n",
      " Enter the second number 3\n",
      "GCD of 10 and 3 is 1\n"
     ]
    }
   ],
   "source": [
    "# to find the GCD of two numbers.\n",
    "number1= int(input(\" Enter the first number \"))\n",
    "number2= int(input(\" Enter the second number \"))\n",
    "smallest= number2 if(number1> number2) else number1\n",
    "# candidate_gcd=[i for i in range(1,smallest+1)]\n",
    "while(smallest>=1):\n",
    "    if(number1% smallest==0 and number2% smallest==0):\n",
    "        print(\"GCD of {} and {} is {}\".format(number1,number2,smallest))\n",
    "        break\n",
    "    smallest=smallest-1    \n",
    "# candidate_gcd"
   ]
  }
 ],
 "metadata": {
  "kernelspec": {
   "display_name": "Python 3",
   "language": "python",
   "name": "python3"
  },
  "language_info": {
   "codemirror_mode": {
    "name": "ipython",
    "version": 3
   },
   "file_extension": ".py",
   "mimetype": "text/x-python",
   "name": "python",
   "nbconvert_exporter": "python",
   "pygments_lexer": "ipython3",
   "version": "3.5.6"
  },
  "widgets": {
   "state": {},
   "version": "1.1.2"
  }
 },
 "nbformat": 4,
 "nbformat_minor": 1
}
